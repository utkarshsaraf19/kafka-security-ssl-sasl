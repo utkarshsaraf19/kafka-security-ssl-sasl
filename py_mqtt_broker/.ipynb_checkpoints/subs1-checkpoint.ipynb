{
 "cells": [
  {
   "cell_type": "code",
   "execution_count": null,
   "id": "9d8f8ac4",
   "metadata": {},
   "outputs": [
    {
     "name": "stdout",
     "output_type": "stream",
     "text": [
      "Connected with result code 0\n",
      "{\"deviceId\":1,\"value\":31.1,\"region\":\"EMEA\",\"timestamp\":1482236627236}\n",
      "{\"deviceId\":1,\"value\":31.1,\"region\":\"EMEA\",\"timestamp\":1482236627236}\n"
     ]
    }
   ],
   "source": [
    "import paho.mqtt.client as mqtt\n",
    "# This is the Subscriber\n",
    "#hostname\n",
    "broker=\"localhost\"\n",
    "#port\n",
    "port=1883\n",
    "#time to live\n",
    "timelive=60\n",
    "def on_connect(client, userdata, flags, rc):\n",
    "  print(\"Connected with result code \"+str(rc))\n",
    "  client.subscribe(\"mqtt\")\n",
    "def on_message(client, userdata, msg):\n",
    "    print(msg.payload.decode())\n",
    "    \n",
    "client = mqtt.Client()\n",
    "client.connect(broker,port,timelive)\n",
    "client.on_connect = on_connect\n",
    "client.on_message = on_message\n",
    "client.loop_forever()"
   ]
  },
  {
   "cell_type": "code",
   "execution_count": null,
   "id": "7b4c1da5",
   "metadata": {},
   "outputs": [],
   "source": []
  }
 ],
 "metadata": {
  "kernelspec": {
   "display_name": "Python 3 (ipykernel)",
   "language": "python",
   "name": "python3"
  },
  "language_info": {
   "codemirror_mode": {
    "name": "ipython",
    "version": 3
   },
   "file_extension": ".py",
   "mimetype": "text/x-python",
   "name": "python",
   "nbconvert_exporter": "python",
   "pygments_lexer": "ipython3",
   "version": "3.7.11"
  }
 },
 "nbformat": 4,
 "nbformat_minor": 5
}
